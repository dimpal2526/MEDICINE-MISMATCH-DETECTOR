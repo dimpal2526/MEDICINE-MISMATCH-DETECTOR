{
  "cells": [
    {
      "cell_type": "code",
      "execution_count": 2,
      "id": "c7e11303-5fb6-4dba-a418-6ecc9d5aa5bb",
      "metadata": {
        "colab": {
          "base_uri": "https://localhost:8080/"
        },
        "id": "c7e11303-5fb6-4dba-a418-6ecc9d5aa5bb",
        "outputId": "970b309b-e33c-4a8a-ce0c-61873bb8eedf"
      },
      "outputs": [
        {
          "name": "stderr",
          "output_type": "stream",
          "text": [
            "<>:5: SyntaxWarning: invalid escape sequence '\\M'\n",
            "<>:5: SyntaxWarning: invalid escape sequence '\\M'\n",
            "C:\\Users\\Dimpal\\AppData\\Local\\Temp\\ipykernel_872\\3275669946.py:5: SyntaxWarning: invalid escape sequence '\\M'\n",
            "  zip_path = \"C:\\Medicine Mismatch Detector\\A-Z medicine dataset of india.zip\"\n"
          ]
        },
        {
          "data": {
            "text/plain": [
              "['A_Z_medicines_dataset_of_India.csv']"
            ]
          },
          "execution_count": 2,
          "metadata": {},
          "output_type": "execute_result"
        }
      ],
      "source": [
        "import zipfile\n",
        "import os\n",
        "\n",
        "# Define paths\n",
        "zip_path = \"C:\\Medicine Mismatch Detector\\A-Z medicine dataset of india.zip\"\n",
        "extract_folder = \"/content/extracted_data\" # Changed to a directory path\n",
        "\n",
        "# Create the extraction directory if it doesn't exist\n",
        "os.makedirs(extract_folder, exist_ok=True)\n",
        "\n",
        "# Extract the contents of the ZIP file\n",
        "with zipfile.ZipFile(zip_path, 'r') as zip_ref:\n",
        "    zip_ref.extractall(extract_folder)\n",
        "\n",
        "# List extracted files\n",
        "extracted_files = os.listdir(extract_folder)\n",
        "extracted_files"
      ]
    },
    {
      "cell_type": "code",
      "execution_count": 3,
      "id": "cccb89d8-4c53-4d6e-a2eb-255e8504937a",
      "metadata": {
        "colab": {
          "base_uri": "https://localhost:8080/",
          "height": 275
        },
        "id": "cccb89d8-4c53-4d6e-a2eb-255e8504937a",
        "outputId": "6ae04bf9-6683-4179-eb26-fb37cf9a94d6"
      },
      "outputs": [
        {
          "name": "stderr",
          "output_type": "stream",
          "text": [
            "<>:4: SyntaxWarning: invalid escape sequence '\\M'\n",
            "<>:4: SyntaxWarning: invalid escape sequence '\\M'\n",
            "C:\\Users\\Dimpal\\AppData\\Local\\Temp\\ipykernel_872\\3055669782.py:4: SyntaxWarning: invalid escape sequence '\\M'\n",
            "  file_path = \"C:\\Medicine Mismatch Detector\\A-Z medicine dataset of india\\A_Z_medicines_dataset_of_India.csv\"\n"
          ]
        },
        {
          "data": {
            "text/html": [
              "<div>\n",
              "<style scoped>\n",
              "    .dataframe tbody tr th:only-of-type {\n",
              "        vertical-align: middle;\n",
              "    }\n",
              "\n",
              "    .dataframe tbody tr th {\n",
              "        vertical-align: top;\n",
              "    }\n",
              "\n",
              "    .dataframe thead th {\n",
              "        text-align: right;\n",
              "    }\n",
              "</style>\n",
              "<table border=\"1\" class=\"dataframe\">\n",
              "  <thead>\n",
              "    <tr style=\"text-align: right;\">\n",
              "      <th></th>\n",
              "      <th>id</th>\n",
              "      <th>name</th>\n",
              "      <th>price(₹)</th>\n",
              "      <th>Is_discontinued</th>\n",
              "      <th>manufacturer_name</th>\n",
              "      <th>type</th>\n",
              "      <th>pack_size_label</th>\n",
              "      <th>short_composition1</th>\n",
              "      <th>short_composition2</th>\n",
              "    </tr>\n",
              "  </thead>\n",
              "  <tbody>\n",
              "    <tr>\n",
              "      <th>0</th>\n",
              "      <td>1</td>\n",
              "      <td>Augmentin 625 Duo Tablet</td>\n",
              "      <td>223.42</td>\n",
              "      <td>False</td>\n",
              "      <td>Glaxo SmithKline Pharmaceuticals Ltd</td>\n",
              "      <td>allopathy</td>\n",
              "      <td>strip of 10 tablets</td>\n",
              "      <td>Amoxycillin  (500mg)</td>\n",
              "      <td>Clavulanic Acid (125mg)</td>\n",
              "    </tr>\n",
              "    <tr>\n",
              "      <th>1</th>\n",
              "      <td>2</td>\n",
              "      <td>Azithral 500 Tablet</td>\n",
              "      <td>132.36</td>\n",
              "      <td>False</td>\n",
              "      <td>Alembic Pharmaceuticals Ltd</td>\n",
              "      <td>allopathy</td>\n",
              "      <td>strip of 5 tablets</td>\n",
              "      <td>Azithromycin (500mg)</td>\n",
              "      <td>NaN</td>\n",
              "    </tr>\n",
              "    <tr>\n",
              "      <th>2</th>\n",
              "      <td>3</td>\n",
              "      <td>Ascoril LS Syrup</td>\n",
              "      <td>118.00</td>\n",
              "      <td>False</td>\n",
              "      <td>Glenmark Pharmaceuticals Ltd</td>\n",
              "      <td>allopathy</td>\n",
              "      <td>bottle of 100 ml Syrup</td>\n",
              "      <td>Ambroxol (30mg/5ml)</td>\n",
              "      <td>Levosalbutamol (1mg/5ml)</td>\n",
              "    </tr>\n",
              "    <tr>\n",
              "      <th>3</th>\n",
              "      <td>4</td>\n",
              "      <td>Allegra 120mg Tablet</td>\n",
              "      <td>218.81</td>\n",
              "      <td>False</td>\n",
              "      <td>Sanofi India  Ltd</td>\n",
              "      <td>allopathy</td>\n",
              "      <td>strip of 10 tablets</td>\n",
              "      <td>Fexofenadine (120mg)</td>\n",
              "      <td>NaN</td>\n",
              "    </tr>\n",
              "    <tr>\n",
              "      <th>4</th>\n",
              "      <td>5</td>\n",
              "      <td>Avil 25 Tablet</td>\n",
              "      <td>10.96</td>\n",
              "      <td>False</td>\n",
              "      <td>Sanofi India  Ltd</td>\n",
              "      <td>allopathy</td>\n",
              "      <td>strip of 15 tablets</td>\n",
              "      <td>Pheniramine (25mg)</td>\n",
              "      <td>NaN</td>\n",
              "    </tr>\n",
              "  </tbody>\n",
              "</table>\n",
              "</div>"
            ],
            "text/plain": [
              "   id                      name  price(₹)  Is_discontinued  \\\n",
              "0   1  Augmentin 625 Duo Tablet    223.42            False   \n",
              "1   2       Azithral 500 Tablet    132.36            False   \n",
              "2   3          Ascoril LS Syrup    118.00            False   \n",
              "3   4      Allegra 120mg Tablet    218.81            False   \n",
              "4   5            Avil 25 Tablet     10.96            False   \n",
              "\n",
              "                      manufacturer_name       type         pack_size_label  \\\n",
              "0  Glaxo SmithKline Pharmaceuticals Ltd  allopathy     strip of 10 tablets   \n",
              "1           Alembic Pharmaceuticals Ltd  allopathy      strip of 5 tablets   \n",
              "2          Glenmark Pharmaceuticals Ltd  allopathy  bottle of 100 ml Syrup   \n",
              "3                     Sanofi India  Ltd  allopathy     strip of 10 tablets   \n",
              "4                     Sanofi India  Ltd  allopathy     strip of 15 tablets   \n",
              "\n",
              "      short_composition1          short_composition2  \n",
              "0  Amoxycillin  (500mg)      Clavulanic Acid (125mg)  \n",
              "1   Azithromycin (500mg)                         NaN  \n",
              "2   Ambroxol (30mg/5ml)    Levosalbutamol (1mg/5ml)   \n",
              "3   Fexofenadine (120mg)                         NaN  \n",
              "4     Pheniramine (25mg)                         NaN  "
            ]
          },
          "execution_count": 3,
          "metadata": {},
          "output_type": "execute_result"
        }
      ],
      "source": [
        "import pandas as pd\n",
        "\n",
        "# Load the medicine dataset\n",
        "file_path = \"C:\\Medicine Mismatch Detector\\A-Z medicine dataset of india\\A_Z_medicines_dataset_of_India.csv\"\n",
        "df = pd.read_csv(file_path)\n",
        "\n",
        "# View first 5 rows\n",
        "df.head()"
      ]
    },
    {
      "cell_type": "code",
      "execution_count": 4,
      "id": "af90a38f-b4ee-44bc-b329-8bd0acf6d5a2",
      "metadata": {
        "colab": {
          "base_uri": "https://localhost:8080/"
        },
        "id": "af90a38f-b4ee-44bc-b329-8bd0acf6d5a2",
        "outputId": "96d7d254-d93d-4136-b093-507bf35147dd"
      },
      "outputs": [
        {
          "name": "stdout",
          "output_type": "stream",
          "text": [
            "<class 'pandas.core.frame.DataFrame'>\n",
            "RangeIndex: 253973 entries, 0 to 253972\n",
            "Data columns (total 9 columns):\n",
            " #   Column              Non-Null Count   Dtype  \n",
            "---  ------              --------------   -----  \n",
            " 0   id                  253973 non-null  int64  \n",
            " 1   name                253973 non-null  object \n",
            " 2   price(₹)            253973 non-null  float64\n",
            " 3   Is_discontinued     253973 non-null  bool   \n",
            " 4   manufacturer_name   253973 non-null  object \n",
            " 5   type                253973 non-null  object \n",
            " 6   pack_size_label     253973 non-null  object \n",
            " 7   short_composition1  253973 non-null  object \n",
            " 8   short_composition2  112171 non-null  object \n",
            "dtypes: bool(1), float64(1), int64(1), object(6)\n",
            "memory usage: 15.7+ MB\n"
          ]
        }
      ],
      "source": [
        "# Check columns and data types\n",
        "df.info()"
      ]
    },
    {
      "cell_type": "code",
      "execution_count": 5,
      "id": "df20b6b5-a9c6-4864-8fc1-ce07c39dd6b0",
      "metadata": {
        "id": "df20b6b5-a9c6-4864-8fc1-ce07c39dd6b0",
        "outputId": "5eabd24e-e606-4910-d4a1-f3670251d8c9"
      },
      "outputs": [
        {
          "data": {
            "text/plain": [
              "Index(['id', 'name', 'price(₹)', 'is_discontinued', 'manufacturer_name',\n",
              "       'type', 'pack_size_label', 'short_composition1', 'short_composition2'],\n",
              "      dtype='object')"
            ]
          },
          "execution_count": 5,
          "metadata": {},
          "output_type": "execute_result"
        }
      ],
      "source": [
        "# Clean column names\n",
        "df.columns = [col.strip().lower().replace(' ', '_') for col in df.columns]\n",
        "df.columns"
      ]
    },
    {
      "cell_type": "code",
      "execution_count": 6,
      "id": "8a76dfd6-dd9e-4bee-a89b-913ec873668c",
      "metadata": {
        "id": "8a76dfd6-dd9e-4bee-a89b-913ec873668c"
      },
      "outputs": [],
      "source": [
        "# it will count the missing values\n",
        "df.isnull().sum()\n",
        "df.fillna(\"Unknown\", inplace=True)"
      ]
    },
    {
      "cell_type": "code",
      "execution_count": 7,
      "id": "f0abb5af-9214-485d-945b-f02a2ef6fb6e",
      "metadata": {
        "colab": {
          "base_uri": "https://localhost:8080/"
        },
        "id": "f0abb5af-9214-485d-945b-f02a2ef6fb6e",
        "outputId": "881205b0-d269-46bf-cec0-ac34b7686416"
      },
      "outputs": [
        {
          "data": {
            "text/plain": [
              "array(['Augmentin 625 Duo Tablet', 'Azithral 500 Tablet',\n",
              "       'Ascoril LS Syrup', 'Allegra 120mg Tablet', 'Avil 25 Tablet',\n",
              "       'Allegra-M Tablet', 'Amoxyclav 625 Tablet', 'Azee 500 Tablet',\n",
              "       'Atarax 25mg Tablet', 'Ascoril D Plus Syrup Sugar Free'],\n",
              "      dtype=object)"
            ]
          },
          "execution_count": 7,
          "metadata": {},
          "output_type": "execute_result"
        }
      ],
      "source": [
        "#\n",
        "df['name'].nunique()\n",
        "df['name'].unique()[:10]"
      ]
    },
    {
      "cell_type": "code",
      "execution_count": 8,
      "id": "e9b5e9e0-697d-4b21-8fe1-c21501d72e9d",
      "metadata": {
        "colab": {
          "base_uri": "https://localhost:8080/"
        },
        "id": "e9b5e9e0-697d-4b21-8fe1-c21501d72e9d",
        "outputId": "99f88b53-3507-42bd-a6b6-73550bdf376a"
      },
      "outputs": [
        {
          "name": "stdout",
          "output_type": "stream",
          "text": [
            "                       name     short_composition1  \\\n",
            "0  Augmentin 625 Duo Tablet  Amoxycillin  (500mg)    \n",
            "1       Azithral 500 Tablet   Azithromycin (500mg)   \n",
            "2          Ascoril LS Syrup   Ambroxol (30mg/5ml)    \n",
            "3      Allegra 120mg Tablet   Fexofenadine (120mg)   \n",
            "4            Avil 25 Tablet     Pheniramine (25mg)   \n",
            "\n",
            "           short_composition2                     manufacturer_name  \\\n",
            "0     Clavulanic Acid (125mg)  Glaxo SmithKline Pharmaceuticals Ltd   \n",
            "1                     Unknown           Alembic Pharmaceuticals Ltd   \n",
            "2   Levosalbutamol (1mg/5ml)           Glenmark Pharmaceuticals Ltd   \n",
            "3                     Unknown                     Sanofi India  Ltd   \n",
            "4                     Unknown                     Sanofi India  Ltd   \n",
            "\n",
            "        type  is_discontinued                                full_composition  \n",
            "0  allopathy            False  Amoxycillin  (500mg) | Clavulanic Acid (125mg)  \n",
            "1  allopathy            False                  Azithromycin (500mg) | Unknown  \n",
            "2  allopathy            False  Ambroxol (30mg/5ml) | Levosalbutamol (1mg/5ml)  \n",
            "3  allopathy            False                  Fexofenadine (120mg) | Unknown  \n",
            "4  allopathy            False                    Pheniramine (25mg) | Unknown  \n"
          ]
        },
        {
          "name": "stderr",
          "output_type": "stream",
          "text": [
            "C:\\Users\\Dimpal\\AppData\\Local\\Temp\\ipykernel_872\\2687183456.py:5: FutureWarning: A value is trying to be set on a copy of a DataFrame or Series through chained assignment using an inplace method.\n",
            "The behavior will change in pandas 3.0. This inplace method will never work because the intermediate object on which we are setting values always behaves as a copy.\n",
            "\n",
            "For example, when doing 'df[col].method(value, inplace=True)', try using 'df.method({col: value}, inplace=True)' or df[col] = df[col].method(value) instead, to perform the operation inplace on the original object.\n",
            "\n",
            "\n",
            "  df_clean[\"short_composition1\"].fillna(\"\", inplace=True)\n",
            "C:\\Users\\Dimpal\\AppData\\Local\\Temp\\ipykernel_872\\2687183456.py:6: FutureWarning: A value is trying to be set on a copy of a DataFrame or Series through chained assignment using an inplace method.\n",
            "The behavior will change in pandas 3.0. This inplace method will never work because the intermediate object on which we are setting values always behaves as a copy.\n",
            "\n",
            "For example, when doing 'df[col].method(value, inplace=True)', try using 'df.method({col: value}, inplace=True)' or df[col] = df[col].method(value) instead, to perform the operation inplace on the original object.\n",
            "\n",
            "\n",
            "  df_clean[\"short_composition2\"].fillna(\"\", inplace=True)\n"
          ]
        }
      ],
      "source": [
        "# Select important columns\n",
        "df_clean = df[[\"name\", \"short_composition1\", \"short_composition2\", \"manufacturer_name\", \"type\", \"is_discontinued\"]].copy()\n",
        "\n",
        "# Fill missing values with empty strings\n",
        "df_clean[\"short_composition1\"].fillna(\"\", inplace=True)\n",
        "df_clean[\"short_composition2\"].fillna(\"\", inplace=True)\n",
        "\n",
        "# Combine both compositions\n",
        "df_clean[\"full_composition\"] = df_clean[\"short_composition1\"].str.strip() + \" | \" + df_clean[\"short_composition2\"].str.strip()\n",
        "\n",
        "# Drop duplicates\n",
        "df_clean.drop_duplicates(subset=[\"name\", \"full_composition\"], inplace=True)\n",
        "\n",
        "# Reset index\n",
        "df_clean.reset_index(drop=True, inplace=True)\n",
        "\n",
        "# Preview\n",
        "print(df_clean.head())"
      ]
    },
    {
      "cell_type": "code",
      "execution_count": 9,
      "id": "U3SBrN1ungLP",
      "metadata": {
        "colab": {
          "base_uri": "https://localhost:8080/"
        },
        "id": "U3SBrN1ungLP",
        "outputId": "1bc52f34-791e-4757-db15-5e9e90910de9"
      },
      "outputs": [
        {
          "name": "stdout",
          "output_type": "stream",
          "text": [
            "                            drug1  \\\n",
            "0     Azonim P 100mg/325mg Tablet   \n",
            "1        Mefkind Forte Suspension   \n",
            "2      Actcalm AT 5mg/50mg Tablet   \n",
            "3           Cefdoxim 200mg Tablet   \n",
            "4  Cipanate CV 200mg/125mg Tablet   \n",
            "\n",
            "                                        composition1  \\\n",
            "0           Nimesulide (100mg) | Paracetamol (325mg)   \n",
            "1  Mefenamic Acid (50mg/5ml) | Paracetamol (125mg...   \n",
            "2                 Amlodipine (5mg) | Atenolol (50mg)   \n",
            "3             Cefpodoxime Proxetil (200mg) | Unknown   \n",
            "4  Cefpodoxime Proxetil (200mg) | Clavulanic Acid...   \n",
            "\n",
            "                           drug2                               composition2  \n",
            "0           Pefocin 400mg Tablet               Pefloxacin (400mg) | Unknown  \n",
            "1              Ultimax 40 Tablet              Pantoprazole (40mg) | Unknown  \n",
            "2                Galop 20 Tablet      Escitalopram Oxalate (20mg) | Unknown  \n",
            "3  Dermaclox 250mg/250mg Capsule  Amoxycillin (250mg) | Cloxacillin (250mg)  \n",
            "4       Vomron 4mg Oral Solution                Ondansetron (4mg) | Unknown  \n"
          ]
        }
      ],
      "source": [
        "import random\n",
        "\n",
        "# Use the cleaned dataframe as the drug list\n",
        "drug_list = df_clean\n",
        "\n",
        "# Set sample size (e.g., 10,000 pairs)\n",
        "sample_size = 10000\n",
        "\n",
        "# Get total number of drugs\n",
        "n = len(drug_list)\n",
        "\n",
        "# Generate random unique index pairs (i, j) where i < j\n",
        "sample_pairs = set()\n",
        "while len(sample_pairs) < sample_size:\n",
        "    i = random.randint(0, n - 2)\n",
        "    j = random.randint(i + 1, n - 1)\n",
        "    sample_pairs.add((i, j))\n",
        "\n",
        "# Build the sample pair dataframe\n",
        "pair_data = [{\n",
        "    \"drug1\": drug_list.iloc[i][\"name\"],\n",
        "    \"composition1\": drug_list.iloc[i][\"full_composition\"],\n",
        "    \"drug2\": drug_list.iloc[j][\"name\"],\n",
        "    \"composition2\": drug_list.iloc[j][\"full_composition\"]\n",
        "} for i, j in sample_pairs]\n",
        "\n",
        "pair_df = pd.DataFrame(pair_data)\n",
        "\n",
        "# Show a few examples\n",
        "print(pair_df.head())"
      ]
    },
    {
      "cell_type": "code",
      "execution_count": 10,
      "id": "XJP0g6BiovKw",
      "metadata": {
        "colab": {
          "base_uri": "https://localhost:8080/"
        },
        "id": "XJP0g6BiovKw",
        "outputId": "063ace0e-7013-484a-b646-f09257fa95db"
      },
      "outputs": [
        {
          "name": "stdout",
          "output_type": "stream",
          "text": [
            "                                    drug1  \\\n",
            "12                   Macrozide 500 Tablet   \n",
            "13                      Noapnea Injection   \n",
            "14                   Fabutron 80mg Tablet   \n",
            "17  StayHappi Acetylcysteine 600mg Tablet   \n",
            "24                     Rindef 30mg Tablet   \n",
            "25                       Newtel 80 Tablet   \n",
            "31                            Clinrik Gel   \n",
            "34                 Zinderm Iso 20 Capsule   \n",
            "36                      Aclosung-P Tablet   \n",
            "37                     Avrota 10mg Tablet   \n",
            "\n",
            "                                 composition1                        drug2  \\\n",
            "12             Pyrazinamide (500mg) | Unknown            Rozze 10mg Tablet   \n",
            "13               Caffeine (20mg/ml) | Unknown             Rax-CMC Eye Drop   \n",
            "14                Febuxostat (80mg) | Unknown        Plasmox 250mg Capsule   \n",
            "17           Acetylcysteine (600mg) | Unknown         Torvigress 40 Tablet   \n",
            "24               Deflazacort (30mg) | Unknown             XYLO NASAL DROPS   \n",
            "25               Telmisartan (80mg) | Unknown          Oroxin 250mg Tablet   \n",
            "31             Clindamycin (1% w/w) | Unknown         Takefix 200mg Tablet   \n",
            "34              Isotretinoin (20mg) | Unknown           Zonimid 25 Capsule   \n",
            "36  Aceclofenac (100mg) | Paracetamol (325mg)  Flupiz-P 100mg/325mg Tablet   \n",
            "37              Atorvastatin (10mg) | Unknown   Glarvia 100IU/ml Injection   \n",
            "\n",
            "                                   composition2  mismatch_flag  \n",
            "12                Rosuvastatin (10mg) | Unknown              1  \n",
            "13  Carboxymethylcellulose (0.5% w/v) | Unknown              1  \n",
            "14                Amoxycillin (250mg) | Unknown              1  \n",
            "17                  Torasemide (40mg) | Unknown              1  \n",
            "24                Xylometazoline (NA) | Unknown              1  \n",
            "25              Ciprofloxacin (250mg) | Unknown              1  \n",
            "31                   Cefixime (200mg) | Unknown              1  \n",
            "34                  Zonisamide (25mg) | Unknown              1  \n",
            "36     Flupirtine (100mg) | Paracetamol (325mg)              1  \n",
            "37           Insulin Glargine (100IU) | Unknown              1  \n"
          ]
        }
      ],
      "source": [
        "def check_mismatch(comp1, comp2):\n",
        "    chemicals1 = set(comp1.lower().replace(\")\", \"\").replace(\"(\", \"\").split(\"|\"))\n",
        "    chemicals2 = set(comp2.lower().replace(\")\", \"\").replace(\"(\", \"\").split(\"|\"))\n",
        "\n",
        "    # Rule: If both have same chemical (very basic check)\n",
        "    if chemicals1 & chemicals2:\n",
        "        return 1  # Potential mismatch\n",
        "    return 0  # Safe\n",
        "\n",
        "# Apply to all pairs\n",
        "pair_df[\"mismatch_flag\"] = pair_df.apply(lambda row: check_mismatch(row[\"composition1\"], row[\"composition2\"]), axis=1)\n",
        "\n",
        "# Show flagged mismatches\n",
        "print(pair_df[pair_df[\"mismatch_flag\"] == 1].head(10))"
      ]
    },
    {
      "cell_type": "code",
      "execution_count": 11,
      "id": "ZXHOUjZGpRaV",
      "metadata": {
        "id": "ZXHOUjZGpRaV"
      },
      "outputs": [],
      "source": [
        "def clean_and_split(comp):\n",
        "    return set([c.strip().lower() for c in comp.replace(\")\", \"\").replace(\"(\", \"\").split(\"|\") if c.strip()])\n",
        "\n",
        "def check_mismatch(comp1, comp2):\n",
        "    chemicals1 = clean_and_split(comp1)\n",
        "    chemicals2 = clean_and_split(comp2)\n",
        "    overlap = chemicals1 & chemicals2\n",
        "    return 1 if len(overlap) >= 1 else 0"
      ]
    },
    {
      "cell_type": "code",
      "execution_count": 12,
      "id": "FIN4wH41pVwZ",
      "metadata": {
        "colab": {
          "base_uri": "https://localhost:8080/"
        },
        "id": "FIN4wH41pVwZ",
        "outputId": "6f9dbed8-5cbe-4d0a-a173-447a8f64678c"
      },
      "outputs": [
        {
          "name": "stdout",
          "output_type": "stream",
          "text": [
            "Accuracy: 0.988\n"
          ]
        }
      ],
      "source": [
        "from sklearn.feature_extraction.text import TfidfVectorizer\n",
        "from sklearn.model_selection import train_test_split\n",
        "from sklearn.ensemble import RandomForestClassifier\n",
        "\n",
        "# Combine both compositions as input text\n",
        "pair_df[\"combined_text\"] = pair_df[\"composition1\"] + \" \" + pair_df[\"composition2\"]\n",
        "\n",
        "# TF-IDF vectorization\n",
        "vectorizer = TfidfVectorizer()\n",
        "X = vectorizer.fit_transform(pair_df[\"combined_text\"])\n",
        "y = pair_df[\"mismatch_flag\"]\n",
        "\n",
        "# Train/Test split\n",
        "X_train, X_test, y_train, y_test = train_test_split(X, y, test_size=0.2, random_state=42)\n",
        "\n",
        "# Train model\n",
        "model = RandomForestClassifier()\n",
        "model.fit(X_train, y_train)\n",
        "\n",
        "# Check accuracy\n",
        "print(\"Accuracy:\", model.score(X_test, y_test))"
      ]
    },
    {
      "cell_type": "code",
      "execution_count": 13,
      "id": "MRUQ8Jz4rPuQ",
      "metadata": {
        "colab": {
          "base_uri": "https://localhost:8080/"
        },
        "id": "MRUQ8Jz4rPuQ",
        "outputId": "e60a8953-2476-4f3d-b9ee-44086e973011"
      },
      "outputs": [
        {
          "name": "stdout",
          "output_type": "stream",
          "text": [
            "              precision    recall  f1-score   support\n",
            "\n",
            "           0       0.98      1.00      0.99      1349\n",
            "           1       1.00      0.96      0.98       651\n",
            "\n",
            "    accuracy                           0.99      2000\n",
            "   macro avg       0.99      0.98      0.99      2000\n",
            "weighted avg       0.99      0.99      0.99      2000\n",
            "\n"
          ]
        }
      ],
      "source": [
        "from sklearn.metrics import classification_report\n",
        "\n",
        "y_pred = model.predict(X_test)\n",
        "print(classification_report(y_test, y_pred))"
      ]
    },
    {
      "cell_type": "code",
      "execution_count": 14,
      "id": "eAk0YxuHrTEI",
      "metadata": {
        "colab": {
          "base_uri": "https://localhost:8080/"
        },
        "id": "eAk0YxuHrTEI",
        "outputId": "f9079104-76fd-400e-d079-0ddf4f46e450"
      },
      "outputs": [
        {
          "name": "stdout",
          "output_type": "stream",
          "text": [
            "mismatch_flag\n",
            "0    6837\n",
            "1    3163\n",
            "Name: count, dtype: int64\n"
          ]
        }
      ],
      "source": [
        "print(pair_df[\"mismatch_flag\"].value_counts())"
      ]
    },
    {
      "cell_type": "code",
      "execution_count": 15,
      "id": "4_-1cVL4rXHo",
      "metadata": {
        "colab": {
          "base_uri": "https://localhost:8080/"
        },
        "id": "4_-1cVL4rXHo",
        "outputId": "2709a640-97fe-4b36-c95e-fd8fe0943ab8"
      },
      "outputs": [
        {
          "name": "stdout",
          "output_type": "stream",
          "text": [
            "Requirement already satisfied: streamlit in d:\\python312\\lib\\site-packages (1.46.0)\n",
            "Requirement already satisfied: altair<6,>=4.0 in d:\\python312\\lib\\site-packages (from streamlit) (5.5.0)\n",
            "Requirement already satisfied: blinker<2,>=1.5.0 in d:\\python312\\lib\\site-packages (from streamlit) (1.9.0)\n",
            "Requirement already satisfied: cachetools<7,>=4.0 in d:\\python312\\lib\\site-packages (from streamlit) (6.1.0)\n",
            "Requirement already satisfied: click<9,>=7.0 in d:\\python312\\lib\\site-packages (from streamlit) (8.1.8)\n",
            "Requirement already satisfied: numpy<3,>=1.23 in d:\\python312\\lib\\site-packages (from streamlit) (2.1.3)\n",
            "Requirement already satisfied: packaging<26,>=20 in d:\\python312\\lib\\site-packages (from streamlit) (24.1)\n",
            "Requirement already satisfied: pandas<3,>=1.4.0 in d:\\python312\\lib\\site-packages (from streamlit) (2.3.0)\n",
            "Requirement already satisfied: pillow<12,>=7.1.0 in d:\\python312\\lib\\site-packages (from streamlit) (10.4.0)\n",
            "Requirement already satisfied: protobuf<7,>=3.20 in d:\\python312\\lib\\site-packages (from streamlit) (5.29.5)\n",
            "Requirement already satisfied: pyarrow>=7.0 in d:\\python312\\lib\\site-packages (from streamlit) (20.0.0)\n",
            "Requirement already satisfied: requests<3,>=2.27 in d:\\python312\\lib\\site-packages (from streamlit) (2.32.3)\n",
            "Requirement already satisfied: tenacity<10,>=8.1.0 in d:\\python312\\lib\\site-packages (from streamlit) (9.1.2)\n",
            "Requirement already satisfied: toml<2,>=0.10.1 in d:\\python312\\lib\\site-packages (from streamlit) (0.10.2)\n",
            "Requirement already satisfied: typing-extensions<5,>=4.4.0 in d:\\python312\\lib\\site-packages (from streamlit) (4.14.0)\n",
            "Requirement already satisfied: watchdog<7,>=2.1.5 in d:\\python312\\lib\\site-packages (from streamlit) (4.0.2)\n",
            "Requirement already satisfied: gitpython!=3.1.19,<4,>=3.0.7 in d:\\python312\\lib\\site-packages (from streamlit) (3.1.44)\n",
            "Requirement already satisfied: pydeck<1,>=0.8.0b4 in d:\\python312\\lib\\site-packages (from streamlit) (0.9.1)\n",
            "Requirement already satisfied: tornado!=6.5.0,<7,>=6.0.3 in d:\\python312\\lib\\site-packages (from streamlit) (6.4.1)\n",
            "Requirement already satisfied: jinja2 in d:\\python312\\lib\\site-packages (from altair<6,>=4.0->streamlit) (3.1.4)\n",
            "Requirement already satisfied: jsonschema>=3.0 in d:\\python312\\lib\\site-packages (from altair<6,>=4.0->streamlit) (4.23.0)\n",
            "Requirement already satisfied: narwhals>=1.14.2 in d:\\python312\\lib\\site-packages (from altair<6,>=4.0->streamlit) (1.41.0)\n",
            "Requirement already satisfied: colorama in d:\\python312\\lib\\site-packages (from click<9,>=7.0->streamlit) (0.4.6)\n",
            "Requirement already satisfied: gitdb<5,>=4.0.1 in d:\\python312\\lib\\site-packages (from gitpython!=3.1.19,<4,>=3.0.7->streamlit) (4.0.12)\n",
            "Requirement already satisfied: python-dateutil>=2.8.2 in d:\\python312\\lib\\site-packages (from pandas<3,>=1.4.0->streamlit) (2.9.0.post0)\n",
            "Requirement already satisfied: pytz>=2020.1 in d:\\python312\\lib\\site-packages (from pandas<3,>=1.4.0->streamlit) (2024.1)\n",
            "Requirement already satisfied: tzdata>=2022.7 in d:\\python312\\lib\\site-packages (from pandas<3,>=1.4.0->streamlit) (2024.1)\n",
            "Requirement already satisfied: charset-normalizer<4,>=2 in d:\\python312\\lib\\site-packages (from requests<3,>=2.27->streamlit) (3.3.2)\n",
            "Requirement already satisfied: idna<4,>=2.5 in d:\\python312\\lib\\site-packages (from requests<3,>=2.27->streamlit) (3.7)\n",
            "Requirement already satisfied: urllib3<3,>=1.21.1 in d:\\python312\\lib\\site-packages (from requests<3,>=2.27->streamlit) (2.2.2)\n",
            "Requirement already satisfied: certifi>=2017.4.17 in d:\\python312\\lib\\site-packages (from requests<3,>=2.27->streamlit) (2024.7.4)\n",
            "Requirement already satisfied: smmap<6,>=3.0.1 in d:\\python312\\lib\\site-packages (from gitdb<5,>=4.0.1->gitpython!=3.1.19,<4,>=3.0.7->streamlit) (5.0.2)\n",
            "Requirement already satisfied: MarkupSafe>=2.0 in d:\\python312\\lib\\site-packages (from jinja2->altair<6,>=4.0->streamlit) (3.0.2)\n",
            "Requirement already satisfied: attrs>=22.2.0 in d:\\python312\\lib\\site-packages (from jsonschema>=3.0->altair<6,>=4.0->streamlit) (24.2.0)\n",
            "Requirement already satisfied: jsonschema-specifications>=2023.03.6 in d:\\python312\\lib\\site-packages (from jsonschema>=3.0->altair<6,>=4.0->streamlit) (2024.10.1)\n",
            "Requirement already satisfied: referencing>=0.28.4 in d:\\python312\\lib\\site-packages (from jsonschema>=3.0->altair<6,>=4.0->streamlit) (0.35.1)\n",
            "Requirement already satisfied: rpds-py>=0.7.1 in d:\\python312\\lib\\site-packages (from jsonschema>=3.0->altair<6,>=4.0->streamlit) (0.21.0)\n",
            "Requirement already satisfied: six>=1.5 in d:\\python312\\lib\\site-packages (from python-dateutil>=2.8.2->pandas<3,>=1.4.0->streamlit) (1.16.0)\n",
            "Note: you may need to restart the kernel to use updated packages.\n"
          ]
        },
        {
          "name": "stderr",
          "output_type": "stream",
          "text": [
            "\n",
            "[notice] A new release of pip is available: 24.0 -> 25.1.1\n",
            "[notice] To update, run: python.exe -m pip install --upgrade pip\n"
          ]
        }
      ],
      "source": [
        "pip install streamlit"
      ]
    },
    {
      "cell_type": "code",
      "execution_count": 16,
      "id": "6NqNkkXHr0YY",
      "metadata": {
        "id": "6NqNkkXHr0YY"
      },
      "outputs": [],
      "source": [
        "import streamlit as st"
      ]
    },
    {
      "cell_type": "code",
      "execution_count": 17,
      "id": "-g8b653Ur5f6",
      "metadata": {
        "colab": {
          "base_uri": "https://localhost:8080/"
        },
        "id": "-g8b653Ur5f6",
        "outputId": "c1117baa-2192-43c1-b164-9edb2cad98d9"
      },
      "outputs": [
        {
          "name": "stdout",
          "output_type": "stream",
          "text": [
            " Safe combination.\n"
          ]
        }
      ],
      "source": [
        "# Example: Manual Entry\n",
        "drug1 = \"Amoxycillin 500mg\"\n",
        "drug2 = \"Clavulanic Acid 125mg\"\n",
        "\n",
        "input_text = drug1 + \" \" + drug2\n",
        "\n",
        "# Ensure vectorizer is defined (run cell 11 first)\n",
        "try:\n",
        "    vector = vectorizer.transform([input_text])\n",
        "except NameError:\n",
        "    raise RuntimeError(\"Please run the cell that defines 'vectorizer' (cell 11) before running this cell.\")\n",
        "\n",
        "prediction = model.predict(vector)\n",
        "\n",
        "if prediction[0] == 1:\n",
        "    print(\" Potential mismatch detected!\")\n",
        "else:\n",
        "    print(\" Safe combination.\")"
      ]
    },
    {
      "cell_type": "code",
      "execution_count": 18,
      "id": "eWq8xtZsr_tD",
      "metadata": {
        "colab": {
          "base_uri": "https://localhost:8080/"
        },
        "id": "eWq8xtZsr_tD",
        "outputId": "0656b16b-acbc-41b2-bcf6-071c81b2ad89"
      },
      "outputs": [
        {
          "name": "stdout",
          "output_type": "stream",
          "text": [
            "Safe combination.\n"
          ]
        }
      ],
      "source": [
        "# Ask user for drug names or compositions\n",
        "drug1 = input(\"Enter first drug composition: \")  # e.g., \"Amoxycillin 500mg\"\n",
        "drug2 = input(\"Enter second drug composition: \")  # e.g., \"Clavulanic Acid 125mg\"\n",
        "\n",
        "# Combine and vectorize\n",
        "input_text = drug1 + \" \" + drug2\n",
        "vector = vectorizer.transform([input_text])\n",
        "prediction = model.predict(vector)\n",
        "\n",
        "# Show result\n",
        "if prediction[0] == 1:\n",
        "    print(\"Potential mismatch detected!\")\n",
        "else:\n",
        "    print(\"Safe combination.\")"
      ]
    },
    {
      "cell_type": "code",
      "execution_count": 19,
      "id": "IVzWge85w5JK",
      "metadata": {
        "colab": {
          "base_uri": "https://localhost:8080/"
        },
        "id": "IVzWge85w5JK",
        "outputId": "c7803fb7-0805-4b72-948a-117ccd37f720"
      },
      "outputs": [
        {
          "name": "stdout",
          "output_type": "stream",
          "text": [
            "Classification Report:\n",
            "              precision    recall  f1-score   support\n",
            "\n",
            "           0       1.00      1.00      1.00      1367\n",
            "           1       1.00      1.00      1.00       633\n",
            "\n",
            "    accuracy                           1.00      2000\n",
            "   macro avg       1.00      1.00      1.00      2000\n",
            "weighted avg       1.00      1.00      1.00      2000\n",
            "\n"
          ]
        }
      ],
      "source": [
        "import numpy as np\n",
        "from sklearn.model_selection import train_test_split\n",
        "from sklearn.linear_model import LogisticRegression\n",
        "from sklearn.metrics import classification_report\n",
        "from sklearn.preprocessing import MinMaxScaler\n",
        "\n",
        "# --- 1. Feature Engineering: Jaccard Similarity ---\n",
        "def jaccard_similarity(str1, str2):\n",
        "    set1 = set(str1.lower().replace(\"(\", \"\").replace(\")\", \"\").split(\"|\"))\n",
        "    set2 = set(str2.lower().replace(\"(\", \"\").replace(\")\", \"\").split(\"|\"))\n",
        "    intersection = len(set1 & set2)\n",
        "    union = len(set1 | set2)\n",
        "    return intersection / union if union != 0 else 0\n",
        "\n",
        "# Apply Jaccard feature\n",
        "pair_df['jaccard'] = pair_df.apply(lambda row: jaccard_similarity(row['composition1'], row['composition2']), axis=1)\n",
        "\n",
        "# Feature set and target\n",
        "X = pair_df[['jaccard']]\n",
        "y = pair_df['mismatch_flag']\n",
        "\n",
        "# --- 2. Stratified Split ---\n",
        "X_train, X_test, y_train, y_test = train_test_split(\n",
        "    X, y, test_size=0.2, stratify=y, random_state=42\n",
        ")\n",
        "\n",
        "# --- 3. Scaling (Optional but useful for some models) ---\n",
        "scaler = MinMaxScaler()\n",
        "X_train_scaled = scaler.fit_transform(X_train)\n",
        "X_test_scaled = scaler.transform(X_test)\n",
        "\n",
        "# --- 4. Logistic Regression with L2 Regularization ---\n",
        "model = LogisticRegression(C=0.5, random_state=42)\n",
        "model.fit(X_train_scaled, y_train)\n",
        "\n",
        "# --- 5. Evaluate the Model ---\n",
        "y_pred = model.predict(X_test_scaled)\n",
        "print(\"Classification Report:\")\n",
        "print(classification_report(y_test, y_pred))"
      ]
    },
    {
      "cell_type": "code",
      "execution_count": 20,
      "id": "TDxZUXWUxeAG",
      "metadata": {
        "id": "TDxZUXWUxeAG"
      },
      "outputs": [],
      "source": [
        "import random\n",
        "\n",
        "def noisy_mismatch_label(comp1, comp2):\n",
        "    \"\"\"\n",
        "    Simulates realistic mismatch: not just based on exact overlap.\n",
        "    Introduces controlled randomness to mimic domain uncertainty.\n",
        "    \"\"\"\n",
        "    set1 = set(comp1.lower().replace(\")\", \"\").replace(\"(\", \"\").split(\"|\"))\n",
        "    set2 = set(comp2.lower().replace(\")\", \"\").replace(\"(\", \"\").split(\"|\"))\n",
        "    intersection = set1 & set2\n",
        "\n",
        "    # Simulate complex logic\n",
        "    if intersection:\n",
        "        return random.choices([0, 1], weights=[0.7, 0.3])[0]  # mostly safe, sometimes risky\n",
        "    else:\n",
        "        return random.choices([0, 1], weights=[0.2, 0.8])[0]  # mostly mismatch\n",
        "\n",
        "pair_df[\"mismatch_flag\"] = pair_df.apply(\n",
        "    lambda row: noisy_mismatch_label(row[\"composition1\"], row[\"composition2\"]),\n",
        "    axis=1\n",
        ")"
      ]
    },
    {
      "cell_type": "code",
      "execution_count": 21,
      "id": "wFrcrVsnxgca",
      "metadata": {
        "id": "wFrcrVsnxgca"
      },
      "outputs": [],
      "source": [
        "def get_feature_df(df):\n",
        "    def composition_len(comp):\n",
        "        return len(set(comp.lower().replace(\")\", \"\").replace(\"(\", \"\").split(\"|\")))\n",
        "\n",
        "    def common_chemicals(comp1, comp2):\n",
        "        s1 = set(comp1.lower().split(\"|\"))\n",
        "        s2 = set(comp2.lower().split(\"|\"))\n",
        "        return len(s1 & s2)\n",
        "\n",
        "    def jaccard(comp1, comp2):\n",
        "        s1 = set(comp1.lower().split(\"|\"))\n",
        "        s2 = set(comp2.lower().split(\"|\"))\n",
        "        union = len(s1 | s2)\n",
        "        inter = len(s1 & s2)\n",
        "        return inter / union if union else 0\n",
        "\n",
        "    df_feat = pd.DataFrame()\n",
        "    df_feat[\"len1\"] = df[\"composition1\"].apply(composition_len)\n",
        "    df_feat[\"len2\"] = df[\"composition2\"].apply(composition_len)\n",
        "    df_feat[\"common_chemicals\"] = df.apply(lambda row: common_chemicals(row[\"composition1\"], row[\"composition2\"]), axis=1)\n",
        "    df_feat[\"jaccard\"] = df.apply(lambda row: jaccard(row[\"composition1\"], row[\"composition2\"]), axis=1)\n",
        "\n",
        "    return df_feat\n",
        "\n",
        "X = get_feature_df(pair_df)\n",
        "y = pair_df[\"mismatch_flag\"]"
      ]
    },
    {
      "cell_type": "code",
      "execution_count": 22,
      "id": "iz_TPlI4xj_R",
      "metadata": {
        "colab": {
          "base_uri": "https://localhost:8080/"
        },
        "id": "iz_TPlI4xj_R",
        "outputId": "846bbc43-7b47-4be9-caec-1aa8ff0a396c"
      },
      "outputs": [
        {
          "name": "stdout",
          "output_type": "stream",
          "text": [
            "              precision    recall  f1-score   support\n",
            "\n",
            "           0       0.69      0.61      0.64       701\n",
            "           1       0.80      0.85      0.82      1299\n",
            "\n",
            "    accuracy                           0.77      2000\n",
            "   macro avg       0.74      0.73      0.73      2000\n",
            "weighted avg       0.76      0.77      0.76      2000\n",
            "\n"
          ]
        }
      ],
      "source": [
        "from sklearn.model_selection import train_test_split\n",
        "from sklearn.linear_model import LogisticRegression\n",
        "from sklearn.metrics import classification_report\n",
        "\n",
        "# Stratified split\n",
        "X_train, X_test, y_train, y_test = train_test_split(\n",
        "    X, y, test_size=0.2, stratify=y, random_state=42\n",
        ")\n",
        "\n",
        "# Train model with regularization\n",
        "model = LogisticRegression(C=0.5)\n",
        "model.fit(X_train, y_train)\n",
        "\n",
        "# Evaluation\n",
        "y_pred = model.predict(X_test)\n",
        "print(classification_report(y_test, y_pred))"
      ]
    },
    {
      "cell_type": "code",
      "execution_count": 23,
      "id": "a05kn-Pvxpr_",
      "metadata": {
        "colab": {
          "base_uri": "https://localhost:8080/"
        },
        "id": "a05kn-Pvxpr_",
        "outputId": "6fd99dec-c57b-4cee-c289-7170e66c8415"
      },
      "outputs": [
        {
          "name": "stdout",
          "output_type": "stream",
          "text": [
            "Requirement already satisfied: tensorflow in d:\\python312\\lib\\site-packages (2.19.0)\n",
            "Requirement already satisfied: absl-py>=1.0.0 in d:\\python312\\lib\\site-packages (from tensorflow) (2.3.0)\n",
            "Requirement already satisfied: astunparse>=1.6.0 in d:\\python312\\lib\\site-packages (from tensorflow) (1.6.3)\n",
            "Requirement already satisfied: flatbuffers>=24.3.25 in d:\\python312\\lib\\site-packages (from tensorflow) (25.2.10)\n",
            "Requirement already satisfied: gast!=0.5.0,!=0.5.1,!=0.5.2,>=0.2.1 in d:\\python312\\lib\\site-packages (from tensorflow) (0.6.0)\n",
            "Requirement already satisfied: google-pasta>=0.1.1 in d:\\python312\\lib\\site-packages (from tensorflow) (0.2.0)\n",
            "Requirement already satisfied: libclang>=13.0.0 in d:\\python312\\lib\\site-packages (from tensorflow) (18.1.1)\n",
            "Requirement already satisfied: opt-einsum>=2.3.2 in d:\\python312\\lib\\site-packages (from tensorflow) (3.4.0)\n",
            "Requirement already satisfied: packaging in d:\\python312\\lib\\site-packages (from tensorflow) (24.1)\n",
            "Requirement already satisfied: protobuf!=4.21.0,!=4.21.1,!=4.21.2,!=4.21.3,!=4.21.4,!=4.21.5,<6.0.0dev,>=3.20.3 in d:\\python312\\lib\\site-packages (from tensorflow) (5.29.5)\n",
            "Requirement already satisfied: requests<3,>=2.21.0 in d:\\python312\\lib\\site-packages (from tensorflow) (2.32.3)\n",
            "Requirement already satisfied: setuptools in d:\\python312\\lib\\site-packages (from tensorflow) (75.5.0)\n",
            "Requirement already satisfied: six>=1.12.0 in d:\\python312\\lib\\site-packages (from tensorflow) (1.16.0)\n",
            "Requirement already satisfied: termcolor>=1.1.0 in d:\\python312\\lib\\site-packages (from tensorflow) (3.1.0)\n",
            "Requirement already satisfied: typing-extensions>=3.6.6 in d:\\python312\\lib\\site-packages (from tensorflow) (4.14.0)\n",
            "Requirement already satisfied: wrapt>=1.11.0 in d:\\python312\\lib\\site-packages (from tensorflow) (1.17.2)\n",
            "Requirement already satisfied: grpcio<2.0,>=1.24.3 in d:\\python312\\lib\\site-packages (from tensorflow) (1.73.0)\n",
            "Requirement already satisfied: tensorboard~=2.19.0 in d:\\python312\\lib\\site-packages (from tensorflow) (2.19.0)\n",
            "Requirement already satisfied: keras>=3.5.0 in d:\\python312\\lib\\site-packages (from tensorflow) (3.10.0)\n",
            "Requirement already satisfied: numpy<2.2.0,>=1.26.0 in d:\\python312\\lib\\site-packages (from tensorflow) (2.1.3)\n",
            "Requirement already satisfied: h5py>=3.11.0 in d:\\python312\\lib\\site-packages (from tensorflow) (3.14.0)\n",
            "Requirement already satisfied: ml-dtypes<1.0.0,>=0.5.1 in d:\\python312\\lib\\site-packages (from tensorflow) (0.5.1)\n",
            "Requirement already satisfied: wheel<1.0,>=0.23.0 in d:\\python312\\lib\\site-packages (from astunparse>=1.6.0->tensorflow) (0.45.1)\n",
            "Requirement already satisfied: rich in d:\\python312\\lib\\site-packages (from keras>=3.5.0->tensorflow) (14.0.0)\n",
            "Requirement already satisfied: namex in d:\\python312\\lib\\site-packages (from keras>=3.5.0->tensorflow) (0.1.0)\n",
            "Requirement already satisfied: optree in d:\\python312\\lib\\site-packages (from keras>=3.5.0->tensorflow) (0.16.0)\n",
            "Requirement already satisfied: charset-normalizer<4,>=2 in d:\\python312\\lib\\site-packages (from requests<3,>=2.21.0->tensorflow) (3.3.2)\n",
            "Requirement already satisfied: idna<4,>=2.5 in d:\\python312\\lib\\site-packages (from requests<3,>=2.21.0->tensorflow) (3.7)\n",
            "Requirement already satisfied: urllib3<3,>=1.21.1 in d:\\python312\\lib\\site-packages (from requests<3,>=2.21.0->tensorflow) (2.2.2)\n",
            "Requirement already satisfied: certifi>=2017.4.17 in d:\\python312\\lib\\site-packages (from requests<3,>=2.21.0->tensorflow) (2024.7.4)\n",
            "Requirement already satisfied: markdown>=2.6.8 in d:\\python312\\lib\\site-packages (from tensorboard~=2.19.0->tensorflow) (3.8)\n",
            "Requirement already satisfied: tensorboard-data-server<0.8.0,>=0.7.0 in d:\\python312\\lib\\site-packages (from tensorboard~=2.19.0->tensorflow) (0.7.2)\n",
            "Requirement already satisfied: werkzeug>=1.0.1 in d:\\python312\\lib\\site-packages (from tensorboard~=2.19.0->tensorflow) (3.1.3)\n",
            "Requirement already satisfied: MarkupSafe>=2.1.1 in d:\\python312\\lib\\site-packages (from werkzeug>=1.0.1->tensorboard~=2.19.0->tensorflow) (3.0.2)\n",
            "Requirement already satisfied: markdown-it-py>=2.2.0 in d:\\python312\\lib\\site-packages (from rich->keras>=3.5.0->tensorflow) (3.0.0)\n",
            "Requirement already satisfied: pygments<3.0.0,>=2.13.0 in d:\\python312\\lib\\site-packages (from rich->keras>=3.5.0->tensorflow) (2.18.0)\n",
            "Requirement already satisfied: mdurl~=0.1 in d:\\python312\\lib\\site-packages (from markdown-it-py>=2.2.0->rich->keras>=3.5.0->tensorflow) (0.1.2)\n",
            "Note: you may need to restart the kernel to use updated packages.\n"
          ]
        },
        {
          "name": "stderr",
          "output_type": "stream",
          "text": [
            "\n",
            "[notice] A new release of pip is available: 24.0 -> 25.1.1\n",
            "[notice] To update, run: python.exe -m pip install --upgrade pip\n"
          ]
        }
      ],
      "source": [
        "pip install tensorflow"
      ]
    },
    {
      "cell_type": "code",
      "execution_count": 24,
      "id": "tjCCyV6tx0lW",
      "metadata": {
        "id": "tjCCyV6tx0lW"
      },
      "outputs": [],
      "source": [
        "import pandas as pd\n",
        "import numpy as np\n",
        "from tensorflow.keras.preprocessing.text import Tokenizer\n",
        "from tensorflow.keras.preprocessing.sequence import pad_sequences\n",
        "from sklearn.model_selection import train_test_split\n",
        "\n",
        "# Combine compositions to build vocabulary\n",
        "texts = pair_df[\"composition1\"].tolist() + pair_df[\"composition2\"].tolist()\n",
        "\n",
        "# Tokenize\n",
        "tokenizer = Tokenizer(num_words=5000, oov_token=\"<OOV>\")\n",
        "tokenizer.fit_on_texts(texts)\n",
        "\n",
        "# Convert to sequences\n",
        "seq1 = tokenizer.texts_to_sequences(pair_df[\"composition1\"])\n",
        "seq2 = tokenizer.texts_to_sequences(pair_df[\"composition2\"])\n",
        "\n",
        "# Pad sequences\n",
        "maxlen = 20\n",
        "X1 = pad_sequences(seq1, maxlen=maxlen, padding='post')\n",
        "X2 = pad_sequences(seq2, maxlen=maxlen, padding='post')\n",
        "\n",
        "# Labels\n",
        "y = pair_df[\"mismatch_flag\"].values\n",
        "\n",
        "# Train-test split\n",
        "X1_train, X1_test, X2_train, X2_test, y_train, y_test = train_test_split(\n",
        "    X1, X2, y, test_size=0.2, random_state=42, stratify=y\n",
        ")"
      ]
    },
    {
      "cell_type": "code",
      "execution_count": 25,
      "id": "sTgk_GYDx5yD",
      "metadata": {
        "colab": {
          "base_uri": "https://localhost:8080/",
          "height": 465
        },
        "id": "sTgk_GYDx5yD",
        "outputId": "cce1e9cd-1f77-4eb8-a507-74a38dfc0cc1"
      },
      "outputs": [
        {
          "name": "stderr",
          "output_type": "stream",
          "text": [
            "d:\\Python312\\Lib\\site-packages\\keras\\src\\layers\\core\\embedding.py:97: UserWarning: Argument `input_length` is deprecated. Just remove it.\n",
            "  warnings.warn(\n"
          ]
        },
        {
          "data": {
            "text/html": [
              "<pre style=\"white-space:pre;overflow-x:auto;line-height:normal;font-family:Menlo,'DejaVu Sans Mono',consolas,'Courier New',monospace\"><span style=\"font-weight: bold\">Model: \"functional\"</span>\n",
              "</pre>\n"
            ],
            "text/plain": [
              "\u001b[1mModel: \"functional\"\u001b[0m\n"
            ]
          },
          "metadata": {},
          "output_type": "display_data"
        },
        {
          "data": {
            "text/html": [
              "<pre style=\"white-space:pre;overflow-x:auto;line-height:normal;font-family:Menlo,'DejaVu Sans Mono',consolas,'Courier New',monospace\">┏━━━━━━━━━━━━━━━━━━━━━┳━━━━━━━━━━━━━━━━━━━┳━━━━━━━━━━━━┳━━━━━━━━━━━━━━━━━━━┓\n",
              "┃<span style=\"font-weight: bold\"> Layer (type)        </span>┃<span style=\"font-weight: bold\"> Output Shape      </span>┃<span style=\"font-weight: bold\">    Param # </span>┃<span style=\"font-weight: bold\"> Connected to      </span>┃\n",
              "┡━━━━━━━━━━━━━━━━━━━━━╇━━━━━━━━━━━━━━━━━━━╇━━━━━━━━━━━━╇━━━━━━━━━━━━━━━━━━━┩\n",
              "│ input_layer         │ (<span style=\"color: #00d7ff; text-decoration-color: #00d7ff\">None</span>, <span style=\"color: #00af00; text-decoration-color: #00af00\">20</span>)        │          <span style=\"color: #00af00; text-decoration-color: #00af00\">0</span> │ -                 │\n",
              "│ (<span style=\"color: #0087ff; text-decoration-color: #0087ff\">InputLayer</span>)        │                   │            │                   │\n",
              "├─────────────────────┼───────────────────┼────────────┼───────────────────┤\n",
              "│ input_layer_1       │ (<span style=\"color: #00d7ff; text-decoration-color: #00d7ff\">None</span>, <span style=\"color: #00af00; text-decoration-color: #00af00\">20</span>)        │          <span style=\"color: #00af00; text-decoration-color: #00af00\">0</span> │ -                 │\n",
              "│ (<span style=\"color: #0087ff; text-decoration-color: #0087ff\">InputLayer</span>)        │                   │            │                   │\n",
              "├─────────────────────┼───────────────────┼────────────┼───────────────────┤\n",
              "│ embedding           │ (<span style=\"color: #00d7ff; text-decoration-color: #00d7ff\">None</span>, <span style=\"color: #00af00; text-decoration-color: #00af00\">20</span>, <span style=\"color: #00af00; text-decoration-color: #00af00\">64</span>)    │     <span style=\"color: #00af00; text-decoration-color: #00af00\">91,776</span> │ input_layer[<span style=\"color: #00af00; text-decoration-color: #00af00\">0</span>][<span style=\"color: #00af00; text-decoration-color: #00af00\">0</span>… │\n",
              "│ (<span style=\"color: #0087ff; text-decoration-color: #0087ff\">Embedding</span>)         │                   │            │ input_layer_1[<span style=\"color: #00af00; text-decoration-color: #00af00\">0</span>]… │\n",
              "├─────────────────────┼───────────────────┼────────────┼───────────────────┤\n",
              "│ lstm (<span style=\"color: #0087ff; text-decoration-color: #0087ff\">LSTM</span>)         │ (<span style=\"color: #00d7ff; text-decoration-color: #00d7ff\">None</span>, <span style=\"color: #00af00; text-decoration-color: #00af00\">64</span>)        │     <span style=\"color: #00af00; text-decoration-color: #00af00\">33,024</span> │ embedding[<span style=\"color: #00af00; text-decoration-color: #00af00\">0</span>][<span style=\"color: #00af00; text-decoration-color: #00af00\">0</span>],  │\n",
              "│                     │                   │            │ embedding[<span style=\"color: #00af00; text-decoration-color: #00af00\">1</span>][<span style=\"color: #00af00; text-decoration-color: #00af00\">0</span>]   │\n",
              "├─────────────────────┼───────────────────┼────────────┼───────────────────┤\n",
              "│ concatenate         │ (<span style=\"color: #00d7ff; text-decoration-color: #00d7ff\">None</span>, <span style=\"color: #00af00; text-decoration-color: #00af00\">128</span>)       │          <span style=\"color: #00af00; text-decoration-color: #00af00\">0</span> │ lstm[<span style=\"color: #00af00; text-decoration-color: #00af00\">0</span>][<span style=\"color: #00af00; text-decoration-color: #00af00\">0</span>],       │\n",
              "│ (<span style=\"color: #0087ff; text-decoration-color: #0087ff\">Concatenate</span>)       │                   │            │ lstm[<span style=\"color: #00af00; text-decoration-color: #00af00\">1</span>][<span style=\"color: #00af00; text-decoration-color: #00af00\">0</span>]        │\n",
              "├─────────────────────┼───────────────────┼────────────┼───────────────────┤\n",
              "│ dense (<span style=\"color: #0087ff; text-decoration-color: #0087ff\">Dense</span>)       │ (<span style=\"color: #00d7ff; text-decoration-color: #00d7ff\">None</span>, <span style=\"color: #00af00; text-decoration-color: #00af00\">64</span>)        │      <span style=\"color: #00af00; text-decoration-color: #00af00\">8,256</span> │ concatenate[<span style=\"color: #00af00; text-decoration-color: #00af00\">0</span>][<span style=\"color: #00af00; text-decoration-color: #00af00\">0</span>] │\n",
              "├─────────────────────┼───────────────────┼────────────┼───────────────────┤\n",
              "│ dropout (<span style=\"color: #0087ff; text-decoration-color: #0087ff\">Dropout</span>)   │ (<span style=\"color: #00d7ff; text-decoration-color: #00d7ff\">None</span>, <span style=\"color: #00af00; text-decoration-color: #00af00\">64</span>)        │          <span style=\"color: #00af00; text-decoration-color: #00af00\">0</span> │ dense[<span style=\"color: #00af00; text-decoration-color: #00af00\">0</span>][<span style=\"color: #00af00; text-decoration-color: #00af00\">0</span>]       │\n",
              "├─────────────────────┼───────────────────┼────────────┼───────────────────┤\n",
              "│ dense_1 (<span style=\"color: #0087ff; text-decoration-color: #0087ff\">Dense</span>)     │ (<span style=\"color: #00d7ff; text-decoration-color: #00d7ff\">None</span>, <span style=\"color: #00af00; text-decoration-color: #00af00\">1</span>)         │         <span style=\"color: #00af00; text-decoration-color: #00af00\">65</span> │ dropout[<span style=\"color: #00af00; text-decoration-color: #00af00\">0</span>][<span style=\"color: #00af00; text-decoration-color: #00af00\">0</span>]     │\n",
              "└─────────────────────┴───────────────────┴────────────┴───────────────────┘\n",
              "</pre>\n"
            ],
            "text/plain": [
              "┏━━━━━━━━━━━━━━━━━━━━━┳━━━━━━━━━━━━━━━━━━━┳━━━━━━━━━━━━┳━━━━━━━━━━━━━━━━━━━┓\n",
              "┃\u001b[1m \u001b[0m\u001b[1mLayer (type)       \u001b[0m\u001b[1m \u001b[0m┃\u001b[1m \u001b[0m\u001b[1mOutput Shape     \u001b[0m\u001b[1m \u001b[0m┃\u001b[1m \u001b[0m\u001b[1m   Param #\u001b[0m\u001b[1m \u001b[0m┃\u001b[1m \u001b[0m\u001b[1mConnected to     \u001b[0m\u001b[1m \u001b[0m┃\n",
              "┡━━━━━━━━━━━━━━━━━━━━━╇━━━━━━━━━━━━━━━━━━━╇━━━━━━━━━━━━╇━━━━━━━━━━━━━━━━━━━┩\n",
              "│ input_layer         │ (\u001b[38;5;45mNone\u001b[0m, \u001b[38;5;34m20\u001b[0m)        │          \u001b[38;5;34m0\u001b[0m │ -                 │\n",
              "│ (\u001b[38;5;33mInputLayer\u001b[0m)        │                   │            │                   │\n",
              "├─────────────────────┼───────────────────┼────────────┼───────────────────┤\n",
              "│ input_layer_1       │ (\u001b[38;5;45mNone\u001b[0m, \u001b[38;5;34m20\u001b[0m)        │          \u001b[38;5;34m0\u001b[0m │ -                 │\n",
              "│ (\u001b[38;5;33mInputLayer\u001b[0m)        │                   │            │                   │\n",
              "├─────────────────────┼───────────────────┼────────────┼───────────────────┤\n",
              "│ embedding           │ (\u001b[38;5;45mNone\u001b[0m, \u001b[38;5;34m20\u001b[0m, \u001b[38;5;34m64\u001b[0m)    │     \u001b[38;5;34m91,776\u001b[0m │ input_layer[\u001b[38;5;34m0\u001b[0m][\u001b[38;5;34m0\u001b[0m… │\n",
              "│ (\u001b[38;5;33mEmbedding\u001b[0m)         │                   │            │ input_layer_1[\u001b[38;5;34m0\u001b[0m]… │\n",
              "├─────────────────────┼───────────────────┼────────────┼───────────────────┤\n",
              "│ lstm (\u001b[38;5;33mLSTM\u001b[0m)         │ (\u001b[38;5;45mNone\u001b[0m, \u001b[38;5;34m64\u001b[0m)        │     \u001b[38;5;34m33,024\u001b[0m │ embedding[\u001b[38;5;34m0\u001b[0m][\u001b[38;5;34m0\u001b[0m],  │\n",
              "│                     │                   │            │ embedding[\u001b[38;5;34m1\u001b[0m][\u001b[38;5;34m0\u001b[0m]   │\n",
              "├─────────────────────┼───────────────────┼────────────┼───────────────────┤\n",
              "│ concatenate         │ (\u001b[38;5;45mNone\u001b[0m, \u001b[38;5;34m128\u001b[0m)       │          \u001b[38;5;34m0\u001b[0m │ lstm[\u001b[38;5;34m0\u001b[0m][\u001b[38;5;34m0\u001b[0m],       │\n",
              "│ (\u001b[38;5;33mConcatenate\u001b[0m)       │                   │            │ lstm[\u001b[38;5;34m1\u001b[0m][\u001b[38;5;34m0\u001b[0m]        │\n",
              "├─────────────────────┼───────────────────┼────────────┼───────────────────┤\n",
              "│ dense (\u001b[38;5;33mDense\u001b[0m)       │ (\u001b[38;5;45mNone\u001b[0m, \u001b[38;5;34m64\u001b[0m)        │      \u001b[38;5;34m8,256\u001b[0m │ concatenate[\u001b[38;5;34m0\u001b[0m][\u001b[38;5;34m0\u001b[0m] │\n",
              "├─────────────────────┼───────────────────┼────────────┼───────────────────┤\n",
              "│ dropout (\u001b[38;5;33mDropout\u001b[0m)   │ (\u001b[38;5;45mNone\u001b[0m, \u001b[38;5;34m64\u001b[0m)        │          \u001b[38;5;34m0\u001b[0m │ dense[\u001b[38;5;34m0\u001b[0m][\u001b[38;5;34m0\u001b[0m]       │\n",
              "├─────────────────────┼───────────────────┼────────────┼───────────────────┤\n",
              "│ dense_1 (\u001b[38;5;33mDense\u001b[0m)     │ (\u001b[38;5;45mNone\u001b[0m, \u001b[38;5;34m1\u001b[0m)         │         \u001b[38;5;34m65\u001b[0m │ dropout[\u001b[38;5;34m0\u001b[0m][\u001b[38;5;34m0\u001b[0m]     │\n",
              "└─────────────────────┴───────────────────┴────────────┴───────────────────┘\n"
            ]
          },
          "metadata": {},
          "output_type": "display_data"
        },
        {
          "data": {
            "text/html": [
              "<pre style=\"white-space:pre;overflow-x:auto;line-height:normal;font-family:Menlo,'DejaVu Sans Mono',consolas,'Courier New',monospace\"><span style=\"font-weight: bold\"> Total params: </span><span style=\"color: #00af00; text-decoration-color: #00af00\">133,121</span> (520.00 KB)\n",
              "</pre>\n"
            ],
            "text/plain": [
              "\u001b[1m Total params: \u001b[0m\u001b[38;5;34m133,121\u001b[0m (520.00 KB)\n"
            ]
          },
          "metadata": {},
          "output_type": "display_data"
        },
        {
          "data": {
            "text/html": [
              "<pre style=\"white-space:pre;overflow-x:auto;line-height:normal;font-family:Menlo,'DejaVu Sans Mono',consolas,'Courier New',monospace\"><span style=\"font-weight: bold\"> Trainable params: </span><span style=\"color: #00af00; text-decoration-color: #00af00\">133,121</span> (520.00 KB)\n",
              "</pre>\n"
            ],
            "text/plain": [
              "\u001b[1m Trainable params: \u001b[0m\u001b[38;5;34m133,121\u001b[0m (520.00 KB)\n"
            ]
          },
          "metadata": {},
          "output_type": "display_data"
        },
        {
          "data": {
            "text/html": [
              "<pre style=\"white-space:pre;overflow-x:auto;line-height:normal;font-family:Menlo,'DejaVu Sans Mono',consolas,'Courier New',monospace\"><span style=\"font-weight: bold\"> Non-trainable params: </span><span style=\"color: #00af00; text-decoration-color: #00af00\">0</span> (0.00 B)\n",
              "</pre>\n"
            ],
            "text/plain": [
              "\u001b[1m Non-trainable params: \u001b[0m\u001b[38;5;34m0\u001b[0m (0.00 B)\n"
            ]
          },
          "metadata": {},
          "output_type": "display_data"
        }
      ],
      "source": [
        "from tensorflow.keras.models import Model\n",
        "from tensorflow.keras.layers import Input, Embedding, LSTM, Dense, Concatenate, Dropout\n",
        "\n",
        "# Embedding parameters\n",
        "vocab_size = len(tokenizer.word_index) + 1\n",
        "embedding_dim = 64\n",
        "\n",
        "# Inputs\n",
        "input1 = Input(shape=(maxlen,))\n",
        "input2 = Input(shape=(maxlen,))\n",
        "\n",
        "# Shared embedding + LSTM encoder\n",
        "embedding = Embedding(vocab_size, embedding_dim, input_length=maxlen)\n",
        "lstm = LSTM(64)\n",
        "\n",
        "encoded1 = lstm(embedding(input1))\n",
        "encoded2 = lstm(embedding(input2))\n",
        "\n",
        "# Merge both encoded vectors\n",
        "merged = Concatenate()([encoded1, encoded2])\n",
        "merged = Dense(64, activation='relu')(merged)\n",
        "merged = Dropout(0.4)(merged)\n",
        "output = Dense(1, activation='sigmoid')(merged)\n",
        "\n",
        "# Build and compile model\n",
        "model = Model(inputs=[input1, input2], outputs=output)\n",
        "model.compile(loss='binary_crossentropy', optimizer='adam', metrics=['accuracy'])\n",
        "\n",
        "model.summary()"
      ]
    },
    {
      "cell_type": "code",
      "execution_count": 26,
      "id": "61w1QAXjx-h6",
      "metadata": {
        "colab": {
          "base_uri": "https://localhost:8080/"
        },
        "id": "61w1QAXjx-h6",
        "outputId": "10510110-9f14-4e6e-e2c8-65737769b592"
      },
      "outputs": [
        {
          "name": "stdout",
          "output_type": "stream",
          "text": [
            "Epoch 1/5\n",
            "\u001b[1m125/125\u001b[0m \u001b[32m━━━━━━━━━━━━━━━━━━━━\u001b[0m\u001b[37m\u001b[0m \u001b[1m3s\u001b[0m 15ms/step - accuracy: 0.6455 - loss: 0.6562 - val_accuracy: 0.6495 - val_loss: 0.6425\n",
            "Epoch 2/5\n",
            "\u001b[1m125/125\u001b[0m \u001b[32m━━━━━━━━━━━━━━━━━━━━\u001b[0m\u001b[37m\u001b[0m \u001b[1m1s\u001b[0m 10ms/step - accuracy: 0.7241 - loss: 0.5873 - val_accuracy: 0.7605 - val_loss: 0.5484\n",
            "Epoch 3/5\n",
            "\u001b[1m125/125\u001b[0m \u001b[32m━━━━━━━━━━━━━━━━━━━━\u001b[0m\u001b[37m\u001b[0m \u001b[1m1s\u001b[0m 9ms/step - accuracy: 0.7659 - loss: 0.5435 - val_accuracy: 0.7605 - val_loss: 0.5462\n",
            "Epoch 4/5\n",
            "\u001b[1m125/125\u001b[0m \u001b[32m━━━━━━━━━━━━━━━━━━━━\u001b[0m\u001b[37m\u001b[0m \u001b[1m1s\u001b[0m 9ms/step - accuracy: 0.7741 - loss: 0.5323 - val_accuracy: 0.7600 - val_loss: 0.5499\n",
            "Epoch 5/5\n",
            "\u001b[1m125/125\u001b[0m \u001b[32m━━━━━━━━━━━━━━━━━━━━\u001b[0m\u001b[37m\u001b[0m \u001b[1m1s\u001b[0m 9ms/step - accuracy: 0.7696 - loss: 0.5386 - val_accuracy: 0.7545 - val_loss: 0.5514\n"
          ]
        }
      ],
      "source": [
        "history = model.fit(\n",
        "    [X1_train, X2_train], y_train,\n",
        "    validation_data=([X1_test, X2_test], y_test),\n",
        "    epochs=5,\n",
        "    batch_size=64\n",
        ")"
      ]
    },
    {
      "cell_type": "code",
      "execution_count": 27,
      "id": "9921910d",
      "metadata": {},
      "outputs": [],
      "source": [
        "%matplotlib inline\n"
      ]
    },
    {
      "cell_type": "code",
      "execution_count": 28,
      "id": "MNy45q_EzSkd",
      "metadata": {
        "colab": {
          "base_uri": "https://localhost:8080/",
          "height": 407
        },
        "id": "MNy45q_EzSkd",
        "outputId": "80b73013-62cf-470c-fa1b-6c13a257c696"
      },
      "outputs": [
        {
          "data": {
            "image/png": "[encoded data removed]",
            "text/plain": [
              "<Figure size 1000x400 with 2 Axes>"
            ]
          },
          "metadata": {},
          "output_type": "display_data"
        }
      ],
      "source": [
        "import matplotlib.pyplot as plt\n",
        "\n",
        "# Accuracy plot\n",
        "plt.figure(figsize=(10, 4))\n",
        "plt.subplot(1, 2, 1)\n",
        "plt.plot(history.history['accuracy'], label='Train Accuracy', marker='o')\n",
        "plt.plot(history.history['val_accuracy'], label='Val Accuracy', marker='o')\n",
        "plt.title('Model Accuracy')\n",
        "plt.xlabel('Epoch')\n",
        "plt.ylabel('Accuracy')\n",
        "plt.legend()\n",
        "\n",
        "# Loss plot\n",
        "plt.subplot(1, 2, 2)\n",
        "plt.plot(history.history['loss'], label='Train Loss', marker='o')\n",
        "plt.plot(history.history['val_loss'], label='Val Loss', marker='o')\n",
        "plt.title('Model Loss')\n",
        "plt.xlabel('Epoch')\n",
        "plt.ylabel('Loss')\n",
        "plt.legend()\n",
        "\n",
        "plt.tight_layout()\n",
        "plt.show()"
      ]
    },
    {
      "cell_type": "code",
      "execution_count": 29,
      "id": "skvYieE-yPun",
      "metadata": {
        "colab": {
          "base_uri": "https://localhost:8080/"
        },
        "id": "skvYieE-yPun",
        "outputId": "b8ddeab5-6edf-438d-ceb8-97ee02c8a27c"
      },
      "outputs": [
        {
          "name": "stdout",
          "output_type": "stream",
          "text": [
            "\u001b[1m63/63\u001b[0m \u001b[32m━━━━━━━━━━━━━━━━━━━━\u001b[0m\u001b[37m\u001b[0m \u001b[1m0s\u001b[0m 5ms/step\n",
            "              precision    recall  f1-score   support\n",
            "\n",
            "           0       0.67      0.59      0.63       701\n",
            "           1       0.79      0.84      0.82      1299\n",
            "\n",
            "    accuracy                           0.75      2000\n",
            "   macro avg       0.73      0.72      0.72      2000\n",
            "weighted avg       0.75      0.75      0.75      2000\n",
            "\n"
          ]
        }
      ],
      "source": [
        "from sklearn.metrics import classification_report\n",
        "\n",
        "y_pred = model.predict([X1_test, X2_test])\n",
        "y_pred_class = (y_pred > 0.5).astype(\"int32\")\n",
        "\n",
        "print(classification_report(y_test, y_pred_class))"
      ]
    },
    {
      "cell_type": "code",
      "execution_count": 30,
      "id": "dec91229",
      "metadata": {
        "colab": {
          "base_uri": "https://localhost:8080/"
        },
        "id": "dec91229",
        "outputId": "464528bc-8622-4369-a6e3-d5c225300603"
      },
      "outputs": [
        {
          "name": "stderr",
          "output_type": "stream",
          "text": [
            "WARNING:absl:You are saving your model as an HDF5 file via `model.save()` or `keras.saving.save_model(model)`. This file format is considered legacy. We recommend using instead the native Keras format, e.g. `model.save('my_model.keras')` or `keras.saving.save_model(model, 'my_model.keras')`. \n"
          ]
        }
      ],
      "source": [
        "import pickle\n",
        "\n",
        "# Save tokenizer\n",
        "with open(\"tokenizer.pkl\", \"wb\") as f:\n",
        "    pickle.dump(tokenizer, f)\n",
        "\n",
        "# Save model\n",
        "model.save(\"mismatch_model.h5\")"
      ]
    },
    {
      "cell_type": "code",
      "execution_count": 31,
      "id": "CcB-8hcsztVz",
      "metadata": {
        "colab": {
          "base_uri": "https://localhost:8080/"
        },
        "id": "CcB-8hcsztVz",
        "outputId": "a7c97f2d-ec12-4938-9f87-1aa567be9739"
      },
      "outputs": [
        {
          "name": "stderr",
          "output_type": "stream",
          "text": [
            "WARNING:absl:Compiled the loaded model, but the compiled metrics have yet to be built. `model.compile_metrics` will be empty until you train or evaluate the model.\n",
            "2025-07-16 12:46:03.348 WARNING streamlit.runtime.scriptrunner_utils.script_run_context: Thread 'MainThread': missing ScriptRunContext! This warning can be ignored when running in bare mode.\n",
            "2025-07-16 12:46:03.554 \n",
            "  \u001b[33m\u001b[1mWarning:\u001b[0m to view this Streamlit app on a browser, run it with the following\n",
            "  command:\n",
            "\n",
            "    streamlit run d:\\Python312\\Lib\\site-packages\\ipykernel_launcher.py [ARGUMENTS]\n",
            "2025-07-16 12:46:03.554 Thread 'MainThread': missing ScriptRunContext! This warning can be ignored when running in bare mode.\n",
            "2025-07-16 12:46:03.554 Thread 'MainThread': missing ScriptRunContext! This warning can be ignored when running in bare mode.\n",
            "2025-07-16 12:46:03.556 Thread 'MainThread': missing ScriptRunContext! This warning can be ignored when running in bare mode.\n",
            "2025-07-16 12:46:03.556 Thread 'MainThread': missing ScriptRunContext! This warning can be ignored when running in bare mode.\n",
            "2025-07-16 12:46:03.557 Thread 'MainThread': missing ScriptRunContext! This warning can be ignored when running in bare mode.\n",
            "2025-07-16 12:46:03.558 Thread 'MainThread': missing ScriptRunContext! This warning can be ignored when running in bare mode.\n",
            "2025-07-16 12:46:03.558 Thread 'MainThread': missing ScriptRunContext! This warning can be ignored when running in bare mode.\n",
            "2025-07-16 12:46:03.559 Thread 'MainThread': missing ScriptRunContext! This warning can be ignored when running in bare mode.\n",
            "2025-07-16 12:46:03.560 Thread 'MainThread': missing ScriptRunContext! This warning can be ignored when running in bare mode.\n",
            "2025-07-16 12:46:03.561 Session state does not function when running a script without `streamlit run`\n",
            "2025-07-16 12:46:03.561 Thread 'MainThread': missing ScriptRunContext! This warning can be ignored when running in bare mode.\n",
            "2025-07-16 12:46:03.562 Thread 'MainThread': missing ScriptRunContext! This warning can be ignored when running in bare mode.\n",
            "2025-07-16 12:46:03.562 Thread 'MainThread': missing ScriptRunContext! This warning can be ignored when running in bare mode.\n",
            "2025-07-16 12:46:03.564 Thread 'MainThread': missing ScriptRunContext! This warning can be ignored when running in bare mode.\n",
            "2025-07-16 12:46:03.564 Thread 'MainThread': missing ScriptRunContext! This warning can be ignored when running in bare mode.\n",
            "2025-07-16 12:46:03.565 Thread 'MainThread': missing ScriptRunContext! This warning can be ignored when running in bare mode.\n",
            "2025-07-16 12:46:03.565 Thread 'MainThread': missing ScriptRunContext! This warning can be ignored when running in bare mode.\n",
            "2025-07-16 12:46:03.565 Thread 'MainThread': missing ScriptRunContext! This warning can be ignored when running in bare mode.\n",
            "2025-07-16 12:46:03.566 Thread 'MainThread': missing ScriptRunContext! This warning can be ignored when running in bare mode.\n",
            "2025-07-16 12:46:03.567 Thread 'MainThread': missing ScriptRunContext! This warning can be ignored when running in bare mode.\n",
            "2025-07-16 12:46:03.568 Thread 'MainThread': missing ScriptRunContext! This warning can be ignored when running in bare mode.\n",
            "2025-07-16 12:46:03.568 Thread 'MainThread': missing ScriptRunContext! This warning can be ignored when running in bare mode.\n",
            "2025-07-16 12:46:03.569 Thread 'MainThread': missing ScriptRunContext! This warning can be ignored when running in bare mode.\n",
            "2025-07-16 12:46:03.570 Thread 'MainThread': missing ScriptRunContext! This warning can be ignored when running in bare mode.\n",
            "2025-07-16 12:46:03.570 Thread 'MainThread': missing ScriptRunContext! This warning can be ignored when running in bare mode.\n",
            "2025-07-16 12:46:03.570 Thread 'MainThread': missing ScriptRunContext! This warning can be ignored when running in bare mode.\n"
          ]
        }
      ],
      "source": [
        "import streamlit as st\n",
        "from tensorflow.keras.preprocessing.text import Tokenizer\n",
        "from tensorflow.keras.preprocessing.sequence import pad_sequences\n",
        "from tensorflow.keras.models import load_model\n",
        "import numpy as np\n",
        "import pickle\n",
        "\n",
        "# Load tokenizer\n",
        "with open(\"tokenizer.pkl\", \"rb\") as f:\n",
        "    tokenizer = pickle.load(f)\n",
        "\n",
        "# Load model\n",
        "model = load_model(\"mismatch_model.h5\")\n",
        "\n",
        "# Parameters\n",
        "maxlen = 20\n",
        "\n",
        "# App UI\n",
        "st.title(\"🧪 Medicine Mismatch Detector (DL Model)\")\n",
        "st.markdown(\"Enter two medicine compositions (separated by '|')\")\n",
        "\n",
        "comp1 = st.text_input(\"Composition 1\", \"Paracetamol | Caffeine\")\n",
        "comp2 = st.text_input(\"Composition 2\", \"Paracetamol | Ibuprofen\")\n",
        "\n",
        "if st.button(\"Check Mismatch\"):\n",
        "    # Convert to sequences\n",
        "    seq1 = tokenizer.texts_to_sequences([comp1])\n",
        "    seq2 = tokenizer.texts_to_sequences([comp2])\n",
        "\n",
        "    # Pad\n",
        "    X1 = pad_sequences(seq1, maxlen=maxlen, padding='post')\n",
        "    X2 = pad_sequences(seq2, maxlen=maxlen, padding='post')\n",
        "\n",
        "    # Predict\n",
        "    pred = model.predict([X1, X2])[0][0]\n",
        "    if pred > 0.5:\n",
        "        st.error(\"Mismatch Detected!\")\n",
        "    else:\n",
        "        st.success(\"No Mismatch Detected.\")"
      ]
    },
    {
      "cell_type": "code",
      "execution_count": 32,
      "id": "V-oKNaubzw2t",
      "metadata": {
        "id": "V-oKNaubzw2t"
      },
      "outputs": [],
      "source": [
        "# Select key columns\n",
        "export_df = pair_df[[\n",
        "    \"drug1\", \"composition1\",\n",
        "    \"drug2\", \"composition2\",\n",
        "    \"mismatch_flag\"\n",
        "]].copy()\n",
        "\n",
        "# Save to CSV\n",
        "export_df.to_csv(\"medicine_mismatch_data.csv\", index=False)"
      ]
    },
    {
      "cell_type": "code",
      "execution_count": 44,
      "id": "0bb09655",
      "metadata": {},
      "outputs": [],
      "source": [
        "results = []\n",
        "\n",
        "# --- Logistic Regression ---\n",
        "lr_model = LogisticRegression()\n",
        "lr_model.fit(X_train, y_train)\n",
        "lr_pred = lr_model.predict(X_test)\n",
        "lr_acc = accuracy_score(y_test, lr_pred)\n",
        "lr_f1 = f1_score(y_test, lr_pred)\n",
        "\n",
        "results.append({\n",
        "    \"Model\": \"Logistic Regression\",\n",
        "    \"Accuracy\": lr_acc,\n",
        "    \"F1-Score\": lr_f1\n",
        "})\n",
        "\n",
        "# --- Random Forest ---\n",
        "rf_model = RandomForestClassifier()\n",
        "rf_model.fit(X_train, y_train)\n",
        "rf_pred = rf_model.predict(X_test)\n",
        "rf_acc = accuracy_score(y_test, rf_pred)\n",
        "rf_f1 = f1_score(y_test, rf_pred)\n",
        "\n",
        "results.append({\n",
        "    \"Model\": \"Random Forest\",\n",
        "    \"Accuracy\": rf_acc,\n",
        "    \"F1-Score\": rf_f1\n",
        "})\n"
      ]
    },
    {
      "cell_type": "code",
      "execution_count": 47,
      "id": "375de32e",
      "metadata": {},
      "outputs": [
        {
          "name": "stdout",
          "output_type": "stream",
          "text": [
            "                 Model  Accuracy  F1-Score\n",
            "0  Logistic Regression     0.765  0.824496\n",
            "1        Random Forest     0.765  0.824496\n"
          ]
        }
      ],
      "source": [
        "df_results = pd.DataFrame(results)\n",
        "print(df_results)\n"
      ]
    },
    {
      "cell_type": "code",
      "execution_count": 34,
      "id": "d63b86b1",
      "metadata": {},
      "outputs": [],
      "source": [
        "import pandas as pd\n",
        "from sklearn.linear_model import LogisticRegression\n",
        "from sklearn.ensemble import RandomForestClassifier\n",
        "from sklearn.svm import SVC\n",
        "from sklearn.metrics import accuracy_score, f1_score\n",
        "from sklearn.model_selection import train_test_split\n",
        "from sklearn.preprocessing import MinMaxScaler\n",
        "import matplotlib.pyplot as plt\n",
        "\n",
        "from tensorflow.keras.models import Sequential\n",
        "from tensorflow.keras.layers import Dense, Dropout\n",
        "from tensorflow.keras.callbacks import EarlyStopping\n"
      ]
    },
    {
      "cell_type": "code",
      "execution_count": 35,
      "id": "c639426d",
      "metadata": {},
      "outputs": [],
      "source": [
        "# Split\n",
        "X_train, X_test, y_train, y_test = train_test_split(\n",
        "    X, y, test_size=0.2, random_state=42, stratify=y)"
      ]
    },
    {
      "cell_type": "code",
      "execution_count": 36,
      "id": "87a8e49b",
      "metadata": {},
      "outputs": [],
      "source": [
        "# Scale\n",
        "scaler = MinMaxScaler()\n",
        "X_train_scaled = scaler.fit_transform(X_train)\n",
        "X_test_scaled = scaler.transform(X_test)"
      ]
    },
    {
      "cell_type": "code",
      "execution_count": 37,
      "id": "e5168465",
      "metadata": {},
      "outputs": [],
      "source": [
        "# ml model\n",
        "models = {\n",
        "    'Logistic Regression': LogisticRegression(C=0.5, random_state=42),\n",
        "    'Random Forest': RandomForestClassifier(random_state=42),\n",
        "    'SVM': SVC(kernel='linear', random_state=42)\n",
        "}\n",
        "\n",
        "results = []\n",
        "\n",
        "for name, model in models.items():\n",
        "    model.fit(X_train_scaled, y_train)\n",
        "    y_pred = model.predict(X_test_scaled)\n",
        "    acc = accuracy_score(y_test, y_pred)\n",
        "    f1 = f1_score(y_test, y_pred)\n",
        "    results.append({'Model': name, 'Accuracy': acc, 'F1 Score': f1})"
      ]
    },
    {
      "cell_type": "code",
      "execution_count": 38,
      "id": "b1d76a5a",
      "metadata": {},
      "outputs": [
        {
          "name": "stderr",
          "output_type": "stream",
          "text": [
            "d:\\Python312\\Lib\\site-packages\\keras\\src\\layers\\core\\dense.py:93: UserWarning: Do not pass an `input_shape`/`input_dim` argument to a layer. When using Sequential models, prefer using an `Input(shape)` object as the first layer in the model instead.\n",
            "  super().__init__(activity_regularizer=activity_regularizer, **kwargs)\n"
          ]
        }
      ],
      "source": [
        "# Deep Learning model\n",
        "\n",
        "dl_model = Sequential([\n",
        "    Dense(64, activation='relu', input_shape=(X_train_scaled.shape[1],)),\n",
        "    Dropout(0.3),\n",
        "    Dense(32, activation='relu'),\n",
        "    Dense(1, activation='sigmoid')\n",
        "])\n",
        "\n",
        "dl_model.compile(loss='binary_crossentropy', optimizer='adam', metrics=['accuracy'])\n",
        "\n",
        "early_stop = EarlyStopping(monitor='val_loss', patience=3, restore_best_weights=True)\n",
        "\n",
        "history = dl_model.fit(\n",
        "    X_train_scaled, y_train, \n",
        "    epochs=20, batch_size=32,\n",
        "    validation_split=0.2,\n",
        "    callbacks=[early_stop],\n",
        "    verbose=0\n",
        ")"
      ]
    },
    {
      "cell_type": "code",
      "execution_count": 39,
      "id": "ab3c4db0",
      "metadata": {},
      "outputs": [
        {
          "name": "stdout",
          "output_type": "stream",
          "text": [
            "\u001b[1m63/63\u001b[0m \u001b[32m━━━━━━━━━━━━━━━━━━━━\u001b[0m\u001b[37m\u001b[0m \u001b[1m0s\u001b[0m 1ms/step  \n"
          ]
        }
      ],
      "source": [
        "# Predict\n",
        "dl_pred_prob = dl_model.predict(X_test_scaled)\n",
        "dl_pred = (dl_pred_prob > 0.5).astype(int)"
      ]
    },
    {
      "cell_type": "code",
      "execution_count": 40,
      "id": "4df698ff",
      "metadata": {},
      "outputs": [],
      "source": [
        "# Calculate scores\n",
        "acc = accuracy_score(y_test, dl_pred)\n",
        "f1 = f1_score(y_test, dl_pred)\n",
        "results.append({'Model': 'Deep Learning (Dense NN)', 'Accuracy': acc, 'F1 Score': f1})"
      ]
    },
    {
      "cell_type": "code",
      "execution_count": 41,
      "id": "46024aba",
      "metadata": {},
      "outputs": [
        {
          "data": {
            "image/png": "[encoded data removed]",
            "text/plain": [
              "<Figure size 900x500 with 1 Axes>"
            ]
          },
          "metadata": {},
          "output_type": "display_data"
        }
      ],
      "source": [
        "# Plot\n",
        "\n",
        "df_results = pd.DataFrame(results)\n",
        "\n",
        "df_results.plot(x='Model', y=['Accuracy', 'F1 Score'], kind='bar', figsize=(9,5))\n",
        "plt.title('Comparison of ML and Deep Learning Models')\n",
        "plt.ylabel('Score')\n",
        "plt.ylim(0,1)\n",
        "plt.xticks(rotation=15)\n",
        "plt.show()"
      ]
    }
  ],
  "metadata": {
    "colab": {
      "provenance": []
    },
    "kernelspec": {
      "display_name": "Python 3",
      "language": "python",
      "name": "python3"
    },
    "language_info": {
      "codemirror_mode": {
        "name": "ipython",
        "version": 3
      },
      "file_extension": ".py",
      "mimetype": "text/x-python",
      "name": "python",
      "nbconvert_exporter": "python",
      "pygments_lexer": "ipython3",
      "version": "3.12.4"
    }
  },
  "nbformat": 4,
  "nbformat_minor": 5
}
